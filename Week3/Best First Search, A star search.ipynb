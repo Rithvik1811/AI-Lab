{
 "cells": [
  {
   "cell_type": "code",
   "execution_count": 1,
   "metadata": {},
   "outputs": [
    {
     "name": "stdout",
     "output_type": "stream",
     "text": [
      "0 1 3 2 8 9 \n"
     ]
    }
   ],
   "source": [
    "from queue import PriorityQueue\n",
    "v = 14\n",
    "graph = [[] for i in range(v)]\n",
    "\n",
    "def best_first_search(actual_Src, target, n):\n",
    "\tvisited = [False] * n\n",
    "\tpq = PriorityQueue()\n",
    "\tpq.put((0, actual_Src))\n",
    "\tvisited[actual_Src] = True\n",
    "\t\n",
    "\twhile pq.empty() == False:\n",
    "\t\tu = pq.get()[1]\n",
    "\t\tprint(u, end=\" \")\n",
    "\t\tif u == target:\n",
    "\t\t\tbreak\n",
    "\n",
    "\t\tfor v, c in graph[u]:\n",
    "\t\t\tif visited[v] == False:\n",
    "\t\t\t\tvisited[v] = True\n",
    "\t\t\t\tpq.put((c, v))\n",
    "\tprint()\n",
    "\n",
    "def addedge(x, y, cost):\n",
    "\tgraph[x].append((y, cost))\n",
    "\tgraph[y].append((x, cost))\n",
    "\n",
    "addedge(0, 1, 3)\n",
    "addedge(0, 2, 6)\n",
    "addedge(0, 3, 5)\n",
    "addedge(1, 4, 9)\n",
    "addedge(1, 5, 8)\n",
    "addedge(2, 6, 12)\n",
    "addedge(2, 7, 14)\n",
    "addedge(3, 8, 7)\n",
    "addedge(8, 9, 5)\n",
    "addedge(8, 10, 6)\n",
    "addedge(9, 11, 1)\n",
    "addedge(9, 12, 10)\n",
    "addedge(9, 13, 2)\n",
    "source = 0\n",
    "target = 9\n",
    "best_first_search(source, target, v)"
   ]
  },
  {
   "cell_type": "code",
   "execution_count": 5,
   "metadata": {},
   "outputs": [
    {
     "name": "stdout",
     "output_type": "stream",
     "text": [
      "Path found: ['A', 'B', 'D']\n"
     ]
    },
    {
     "data": {
      "text/plain": [
       "['A', 'B', 'D']"
      ]
     },
     "execution_count": 5,
     "metadata": {},
     "output_type": "execute_result"
    }
   ],
   "source": [
    "from collections import deque\n",
    "class Graph:\n",
    "    def __init__(self, adjacency_list):\n",
    "        self.adjacency_list = adjacency_list\n",
    "\n",
    "    def get_neighbors(self, v):\n",
    "        return self.adjacency_list[v]\n",
    "    def h(self, n):\n",
    "        H = {\n",
    "            'A': 1,\n",
    "            'B': 1,\n",
    "            'C': 1,\n",
    "            'D': 1\n",
    "        }\n",
    "\n",
    "        return H[n]\n",
    "\n",
    "    def a_star_algorithm(self, start_node, stop_node):\n",
    "        open_list = set([start_node])\n",
    "        closed_list = set([])\n",
    "        g = {}\n",
    "        g[start_node] = 0\n",
    "        parents = {}\n",
    "        parents[start_node] = start_node\n",
    "\n",
    "        while len(open_list) > 0:\n",
    "            n = None\n",
    "            for v in open_list:\n",
    "                if n == None or g[v] + self.h(v) < g[n] + self.h(n):\n",
    "                    n = v;\n",
    "\n",
    "            if n == None:\n",
    "                print('Path does not exist!')\n",
    "                return None\n",
    "            if n == stop_node:\n",
    "                reconst_path = []\n",
    "\n",
    "                while parents[n] != n:\n",
    "                    reconst_path.append(n)\n",
    "                    n = parents[n]\n",
    "\n",
    "                reconst_path.append(start_node)\n",
    "\n",
    "                reconst_path.reverse()\n",
    "\n",
    "                print('Path found: {}'.format(reconst_path))\n",
    "                return reconst_path\n",
    "            for (m, weight) in self.get_neighbors(n):\n",
    "                if m not in open_list and m not in closed_list:\n",
    "                    open_list.add(m)\n",
    "                    parents[m] = n\n",
    "                    g[m] = g[n] + weight\n",
    "                else:\n",
    "                    if g[m] > g[n] + weight:\n",
    "                        g[m] = g[n] + weight\n",
    "                        parents[m] = n\n",
    "                        if m in closed_list:\n",
    "                            closed_list.remove(m)\n",
    "                            open_list.add(m)\n",
    "            open_list.remove(n)\n",
    "            closed_list.add(n)\n",
    "\n",
    "        print('Path does not exist!')\n",
    "        return None\n",
    "adjacency_list = {\n",
    "'A': [('B', 1), ('C', 3), ('D', 7)],\n",
    "'B': [('D', 5)],\n",
    "'C': [('D', 12)]}\n",
    "graph1 = Graph(adjacency_list)\n",
    "graph1.a_star_algorithm('A', 'D')"
   ]
  }
 ],
 "metadata": {
  "kernelspec": {
   "display_name": "Python 3",
   "language": "python",
   "name": "python3"
  },
  "language_info": {
   "codemirror_mode": {
    "name": "ipython",
    "version": 3
   },
   "file_extension": ".py",
   "mimetype": "text/x-python",
   "name": "python",
   "nbconvert_exporter": "python",
   "pygments_lexer": "ipython3",
   "version": "3.8.5"
  }
 },
 "nbformat": 4,
 "nbformat_minor": 4
}
